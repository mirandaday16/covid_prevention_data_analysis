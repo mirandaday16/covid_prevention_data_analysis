{
 "cells": [
  {
   "cell_type": "code",
   "execution_count": 1,
   "metadata": {},
   "outputs": [],
   "source": [
    "import pandas as pd\n",
    "filePathWHO = 'Data/WHO-COVID-19-global-data.csv'\n",
    "who = pd.read_csv(filePathWHO)\n",
    "#includes new cases, new deaths, total cases, and total deaths for most countries"
   ]
  },
  {
   "cell_type": "code",
   "execution_count": 2,
   "metadata": {},
   "outputs": [],
   "source": [
    "import matplotlib.pyplot as plt\n",
    "import scipy.stats as stats"
   ]
  },
  {
   "cell_type": "code",
   "execution_count": 3,
   "metadata": {},
   "outputs": [],
   "source": [
    "filePathTestsFull = 'Data/full-list-total-tests-for-covid-19.csv'\n",
    "covid_tests = pd.read_csv(filePathTestsFull)\n",
    "\n",
    "#source: https://ourworldindata.org/grapher/full-list-total-tests-for-covid-19"
   ]
  },
  {
   "cell_type": "code",
   "execution_count": 4,
   "metadata": {},
   "outputs": [],
   "source": [
    "who['Date_reported'] =  pd.to_datetime(who['Date_reported'], format='%m/%d/%Y')\n",
    "covid_tests['Date'] = pd.to_datetime(covid_tests.Date)\n",
    "#convert the date format of covid_tests to be the same as in WHO data"
   ]
  },
  {
   "cell_type": "code",
   "execution_count": 5,
   "metadata": {},
   "outputs": [],
   "source": [
    "who = who.replace(['United States of America',\n",
    "                   'Bolivia (Plurinational State of)',\n",
    "                   'Czechia','Iran (Islamic Republic of)',\n",
    "                   'Russian Federation', 'Republic of Korea',\n",
    "                   'The United Kingdom',\n",
    "                   'Viet Nam'], ['United States',\n",
    "                                 'Bolivia',\n",
    "                                 'Czech Republic',\n",
    "                                 'Iran',\n",
    "                                 'Russia',\n",
    "                                 'South Korea',\n",
    "                                 'United Kingdom',\n",
    "                                 'Vietnam'])\n",
    "covid_tests = covid_tests.replace(['France, tests performed',\n",
    " 'Ghana, people tested',\n",
    " 'India, people tested',\n",
    " 'Singapore, samples tested',\n",
    " 'Thailand, people tested'], ['France',\n",
    "                              'Ghana',\n",
    "                              'India',\n",
    "                              'Singapore',\n",
    "                              'Thailand'])"
   ]
  },
  {
   "cell_type": "code",
   "execution_count": 6,
   "metadata": {},
   "outputs": [],
   "source": [
    "who_tests_merged = covid_tests.merge(who, left_on=['Entity','Date'], right_on=['Country','Date_reported'])\n",
    "who_tests_merged = who_tests_merged.drop(['Entity', 'Date_reported', 'Country_code'], axis=1)\n",
    "who_tests_merged['New tests'] = 0"
   ]
  },
  {
   "cell_type": "code",
   "execution_count": 7,
   "metadata": {},
   "outputs": [
    {
     "name": "stderr",
     "output_type": "stream",
     "text": [
      "C:\\Users\\nic_v\\Anaconda3\\lib\\site-packages\\ipykernel_launcher.py:4: SettingWithCopyWarning: \n",
      "A value is trying to be set on a copy of a slice from a DataFrame\n",
      "\n",
      "See the caveats in the documentation: http://pandas.pydata.org/pandas-docs/stable/indexing.html#indexing-view-versus-copy\n",
      "  after removing the cwd from sys.path.\n"
     ]
    }
   ],
   "source": [
    "for i in range(who_tests_merged['Country'].size):\n",
    "    if i>0:\n",
    "        if (who_tests_merged['Country'][i-1] == who_tests_merged['Country'][i]):\n",
    "            who_tests_merged['New tests'][i] = (who_tests_merged['Total tests'][i]-who_tests_merged['Total tests'][i-1])\n",
    "#Note, takes ~3 min to run as is"
   ]
  },
  {
   "cell_type": "code",
   "execution_count": 8,
   "metadata": {},
   "outputs": [
    {
     "name": "stdout",
     "output_type": "stream",
     "text": [
      "Pearson value for total cases and total tests of all countries:\n",
      "0.9222211340936356\n",
      "Spearman value for total cases and total tests of all countries:\n",
      "0.8751822769092304\n"
     ]
    }
   ],
   "source": [
    "xs = who_tests_merged['Cumulative_cases']\n",
    "ys = who_tests_merged['Total tests']\n",
    "print('Pearson value for total cases and total tests of all countries:')\n",
    "print(stats.pearsonr(xs,ys)[0])\n",
    "print('Spearman value for total cases and total tests of all countries:')\n",
    "print(stats.spearmanr(xs,ys)[0])"
   ]
  },
  {
   "cell_type": "code",
   "execution_count": 9,
   "metadata": {},
   "outputs": [
    {
     "name": "stdout",
     "output_type": "stream",
     "text": [
      "Pearson value for new cases and new tests of all countries:\n",
      "0.7691987665230835\n",
      "Spearman value for new cases and new tests of all countries:\n",
      "0.6607317347947645\n"
     ]
    }
   ],
   "source": [
    "xsr = who_tests_merged['New_cases']\n",
    "ysr = who_tests_merged['New tests']\n",
    "print('Pearson value for new cases and new tests of all countries:')\n",
    "print(stats.pearsonr(xsr,ysr)[0])\n",
    "print('Spearman value for new cases and new tests of all countries:')\n",
    "print(stats.spearmanr(xsr,ysr)[0])"
   ]
  },
  {
   "cell_type": "code",
   "execution_count": 10,
   "metadata": {},
   "outputs": [
    {
     "name": "stdout",
     "output_type": "stream",
     "text": [
      "Pearson value for total cases and total tests in the US:\n",
      "0.9741862456385783\n",
      "Spearman value for total cases and total tests in the US:\n",
      "0.9999871245279883\n"
     ]
    }
   ],
   "source": [
    "xus = who_tests_merged.loc[who_tests_merged['Country'] == 'United States']['Cumulative_cases']\n",
    "yus = who_tests_merged.loc[who_tests_merged['Country'] == 'United States']['Total tests']\n",
    "print('Pearson value for total cases and total tests in the US:')\n",
    "print(stats.pearsonr(xus,yus)[0])\n",
    "print('Spearman value for total cases and total tests in the US:')\n",
    "print(stats.spearmanr(xus,yus)[0])"
   ]
  },
  {
   "cell_type": "code",
   "execution_count": 11,
   "metadata": {},
   "outputs": [
    {
     "name": "stdout",
     "output_type": "stream",
     "text": [
      "Pearson value for new cases and new tests in the US:\n",
      "0.6854279491935551\n",
      "Spearman value for new cases and new tests in the US:\n",
      "0.5318661294857983\n"
     ]
    }
   ],
   "source": [
    "xus2 = who_tests_merged.loc[who_tests_merged['Country'] == 'United States']['New_cases']\n",
    "yus2 = who_tests_merged.loc[who_tests_merged['Country'] == 'United States']['New tests']\n",
    "print('Pearson value for new cases and new tests in the US:')\n",
    "print(stats.pearsonr(xus2,yus2)[0])\n",
    "print('Spearman value for new cases and new tests in the US:')\n",
    "print(stats.spearmanr(xus2,yus2)[0])"
   ]
  },
  {
   "cell_type": "code",
   "execution_count": 12,
   "metadata": {},
   "outputs": [
    {
     "name": "stdout",
     "output_type": "stream",
     "text": [
      "Pearson value for total cases and total tests in New Zealand:\n",
      "0.7141574962311737\n",
      "Spearman value for total cases and total tests in New Zealand:\n",
      "0.99601154367086\n"
     ]
    }
   ],
   "source": [
    "xnz = who_tests_merged.loc[who_tests_merged['Country'] == 'New Zealand']['Cumulative_cases']\n",
    "ynz = who_tests_merged.loc[who_tests_merged['Country'] == 'New Zealand']['Total tests']\n",
    "print('Pearson value for total cases and total tests in New Zealand:')\n",
    "print(stats.pearsonr(xnz,ynz)[0])\n",
    "print('Spearman value for total cases and total tests in New Zealand:')\n",
    "print(stats.spearmanr(xnz,ynz)[0])"
   ]
  },
  {
   "cell_type": "code",
   "execution_count": 13,
   "metadata": {},
   "outputs": [
    {
     "name": "stdout",
     "output_type": "stream",
     "text": [
      "Pearson value for new cases and new tests in New Zealand:\n",
      "-0.1821895929177977\n",
      "Spearman value for new cases and new tests in New Zealand:\n",
      "0.0021873867473263258\n"
     ]
    }
   ],
   "source": [
    "xnz2 = who_tests_merged.loc[who_tests_merged['Country'] == 'New Zealand']['New_cases']\n",
    "ynz2 = who_tests_merged.loc[who_tests_merged['Country'] == 'New Zealand']['New tests']\n",
    "print('Pearson value for new cases and new tests in New Zealand:')\n",
    "print(stats.pearsonr(xnz2,ynz2)[0])\n",
    "print('Spearman value for new cases and new tests in New Zealand:')\n",
    "print(stats.spearmanr(xnz2,ynz2)[0])"
   ]
  },
  {
   "cell_type": "code",
   "execution_count": 16,
   "metadata": {},
   "outputs": [],
   "source": [
    "output_US = who_tests_merged.loc[who_tests_merged['Country'] == 'United States'][['Cumulative_cases', 'Total tests', 'New_cases', 'New tests']]"
   ]
  },
  {
   "cell_type": "code",
   "execution_count": 20,
   "metadata": {},
   "outputs": [],
   "source": [
    "output_NZ = who_tests_merged.loc[who_tests_merged['Country'] == 'New Zealand'][['Cumulative_cases', 'Total tests', 'New_cases', 'New tests']]"
   ]
  },
  {
   "cell_type": "code",
   "execution_count": 25,
   "metadata": {},
   "outputs": [
    {
     "data": {
      "text/plain": [
       "Text(0.5, 1.0, 'Total COVID Cases and Tests in the US')"
      ]
     },
     "execution_count": 25,
     "metadata": {},
     "output_type": "execute_result"
    },
    {
     "data": {
      "image/png": "[encoded data removed]",
      "text/plain": [
       "<Figure size 432x288 with 1 Axes>"
      ]
     },
     "metadata": {
      "needs_background": "light"
     },
     "output_type": "display_data"
    }
   ],
   "source": [
    "x1 = output_US['Cumulative_cases']\n",
    "y1 = output_US['Total tests']\n",
    "plt.plot(x1, y1,'o')\n",
    "plt.ylabel('Total Tests')\n",
    "plt.xlabel('Total Cases')\n",
    "plt.title('Total COVID Cases and Tests in the US')"
   ]
  },
  {
   "cell_type": "code",
   "execution_count": 28,
   "metadata": {},
   "outputs": [
    {
     "data": {
      "text/plain": [
       "Text(0.5, 1.0, 'New COVID Cases and Tests in the US')"
      ]
     },
     "execution_count": 28,
     "metadata": {},
     "output_type": "execute_result"
    },
    {
     "data": {
      "image/png": "[encoded data removed]",
      "text/plain": [
       "<Figure size 432x288 with 1 Axes>"
      ]
     },
     "metadata": {
      "needs_background": "light"
     },
     "output_type": "display_data"
    }
   ],
   "source": [
    "x2 = output_US['New_cases']\n",
    "y2 = output_US['New tests']\n",
    "plt.plot(x2, y2,'o')\n",
    "plt.ylabel('New Tests')\n",
    "plt.xlabel('New Cases')\n",
    "plt.title('New COVID Cases and Tests in the US')"
   ]
  },
  {
   "cell_type": "code",
   "execution_count": 26,
   "metadata": {},
   "outputs": [
    {
     "data": {
      "text/plain": [
       "Text(0.5, 1.0, 'Total COVID Cases and Tests in NZ')"
      ]
     },
     "execution_count": 26,
     "metadata": {},
     "output_type": "execute_result"
    },
    {
     "data": {
      "image/png": "[encoded data removed]",
      "text/plain": [
       "<Figure size 432x288 with 1 Axes>"
      ]
     },
     "metadata": {
      "needs_background": "light"
     },
     "output_type": "display_data"
    }
   ],
   "source": [
    "x3 = output_NZ['Cumulative_cases']\n",
    "y3 = output_NZ['Total tests']\n",
    "plt.plot(x3, y3,'o')\n",
    "plt.ylabel('Total Tests')\n",
    "plt.xlabel('Total Cases')\n",
    "plt.title('Total COVID Cases and Tests in NZ')"
   ]
  },
  {
   "cell_type": "code",
   "execution_count": 27,
   "metadata": {},
   "outputs": [
    {
     "data": {
      "text/plain": [
       "Text(0.5, 1.0, 'New COVID Cases and Tests in NZ')"
      ]
     },
     "execution_count": 27,
     "metadata": {},
     "output_type": "execute_result"
    },
    {
     "data": {
      "image/png": "[encoded data removed]",
      "text/plain": [
       "<Figure size 432x288 with 1 Axes>"
      ]
     },
     "metadata": {
      "needs_background": "light"
     },
     "output_type": "display_data"
    }
   ],
   "source": [
    "x4 = output_NZ['New_cases']\n",
    "y4 = output_NZ['New tests']\n",
    "plt.plot(x4, y4,'o')\n",
    "plt.ylabel('New Tests')\n",
    "plt.xlabel('New Cases')\n",
    "plt.title('New COVID Cases and Tests in NZ')"
   ]
  }
 ],
 "metadata": {
  "kernelspec": {
   "display_name": "Python 3",
   "language": "python",
   "name": "python3"
  },
  "language_info": {
   "codemirror_mode": {
    "name": "ipython",
    "version": 3
   },
   "file_extension": ".py",
   "mimetype": "text/x-python",
   "name": "python",
   "nbconvert_exporter": "python",
   "pygments_lexer": "ipython3",
   "version": "3.7.3"
  }
 },
 "nbformat": 4,
 "nbformat_minor": 2
}
